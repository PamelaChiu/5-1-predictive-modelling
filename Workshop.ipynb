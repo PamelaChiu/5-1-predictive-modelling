{
 "cells": [
  {
   "cell_type": "markdown",
   "metadata": {},
   "source": [
    "## 1: Face Recognition, but not evil this time\n",
    "\n",
    "Using the faces dataset in:\n",
    "\n",
    "```\n",
    "from sklearn.datasets import fetch_lfw_people\n",
    "faces = fetch_lfw_people(min_faces_per_person=60)\n",
    "```\n",
    "\n",
    "If you use the `faces.target` and `faces.target_names` attributes, you can build a facial recognition algorithm.\n",
    "\n",
    "Use sklearn **gridsearch** (or an equivalent, like random search) to optimize the model for accuracy. Try both a SVM-based classifier and a logistic regression based classifier (with a feature pipeline of your choice) to get the best model. You should have at least 80% accuracy."
   ]
  },
  {
   "cell_type": "code",
   "execution_count": null,
   "metadata": {},
   "outputs": [],
   "source": [
    "from sklearn.datasets import fetch_lfw_people\n",
    "from sklearn.model_selection import train_test_split\n",
    "from sklearn.neighbors import KNeighborsClassifier\n",
    "import numpy as np"
   ]
  },
  {
   "cell_type": "code",
   "execution_count": null,
   "metadata": {},
   "outputs": [],
   "source": [
    "faces = fetch_lfw_people(min_faces_per_person=60)"
   ]
  },
  {
   "cell_type": "code",
   "execution_count": null,
   "metadata": {},
   "outputs": [],
   "source": [
    "faces.keys()"
   ]
  },
  {
   "cell_type": "code",
   "execution_count": null,
   "metadata": {},
   "outputs": [],
   "source": [
    "X = faces['data']\n",
    "y = faces['target']\n",
    "print(X.shape,y.shape)"
   ]
  },
  {
   "cell_type": "code",
   "execution_count": null,
   "metadata": {},
   "outputs": [],
   "source": [
    "from sklearn.preprocessing import StandardScaler\n",
    "from sklearn.pipeline import Pipeline\n",
    "from sklearn.preprocessing import PolynomialFeatures\n",
    "from sklearn.linear_model import LinearRegression\n",
    "from sklearn.svm import SVC\n",
    "from sklearn.decomposition import PCA\n",
    "from sklearn.ensemble import RandomForestClassifier\n",
    "\n",
    "pipe1 = Pipeline([\n",
    "    ('sscaler',StandardScaler()),\n",
    "    ('pca',PCA()),\n",
    "    ('sscaler2',StandardScaler()),\n",
    "    ('svc', SVC())   \n",
    "])\n",
    "\n",
    "X_train, X_test, y_train, y_test = train_test_split(X, y, test_size=0.10, random_state=42)"
   ]
  },
  {
   "cell_type": "code",
   "execution_count": null,
   "metadata": {},
   "outputs": [],
   "source": [
    "from sklearn.model_selection import GridSearchCV\n",
    "\n",
    "param_grid = {\n",
    "             'pca__n_components': [100,200],\n",
    "             'svc__C': [1e3, 5e3, 1e4, 5e4],\n",
    "             'svc__gamma':[0.0001, 0.1]\n",
    "             }"
   ]
  },
  {
   "cell_type": "code",
   "execution_count": 7,
   "metadata": {},
   "outputs": [],
   "source": [
    "grid1 = GridSearchCV(pipe1,param_grid,cv = 4,verbose=1)"
   ]
  },
  {
   "cell_type": "code",
   "execution_count": 8,
   "metadata": {},
   "outputs": [
    {
     "name": "stdout",
     "output_type": "stream",
     "text": [
      "Fitting 4 folds for each of 16 candidates, totalling 64 fits\n"
     ]
    },
    {
     "name": "stderr",
     "output_type": "stream",
     "text": [
      "[Parallel(n_jobs=1)]: Using backend SequentialBackend with 1 concurrent workers.\n",
      "[Parallel(n_jobs=1)]: Done  64 out of  64 | elapsed:   49.5s finished\n"
     ]
    },
    {
     "name": "stdout",
     "output_type": "stream",
     "text": [
      "{'pca__n_components': 200, 'svc__C': 5000.0, 'svc__gamma': 0.0001}\n"
     ]
    }
   ],
   "source": [
    "grid1.fit(X_train, y_train)\n",
    "model = grid1.best_estimator_\n",
    "\n",
    "predict = model.predict(X_test)\n",
    "print(grid1.best_params_)"
   ]
  },
  {
   "cell_type": "code",
   "execution_count": 9,
   "metadata": {},
   "outputs": [
    {
     "name": "stdout",
     "output_type": "stream",
     "text": [
      "0.7925925925925926\n"
     ]
    }
   ],
   "source": [
    "print(model.score(X_test,y_test))"
   ]
  },
  {
   "cell_type": "markdown",
   "metadata": {},
   "source": [
    "# 2: Bag of Words, Bag of Popcorn\n",
    "\n",
    "By this point, you are ready for the [Bag of Words, Bag of Popcorn](https://www.kaggle.com/c/word2vec-nlp-tutorial/data) competition. \n",
    "\n",
    "Use NLP feature pre-processing (using, SKLearn, Gensim, Spacy or Hugginface) to build the best classifier you can. Use a  feature pipeline, and gridsearch for your final model.\n",
    "\n",
    "A succesful project should get 90% or more on a **holdout** dataset you kept for yourself."
   ]
  },
  {
   "cell_type": "code",
   "execution_count": 10,
   "metadata": {},
   "outputs": [],
   "source": [
    "import pandas as pd\n",
    "import string\n",
    "from nltk.corpus import stopwords\n",
    "\n",
    "df = pd.read_csv('labeledTrainData.tsv', sep='\\t')\n",
    "df.drop(columns='id',axis=1,inplace=True)"
   ]
  },
  {
   "cell_type": "code",
   "execution_count": 11,
   "metadata": {},
   "outputs": [
    {
     "data": {
      "text/html": [
       "<div>\n",
       "<style scoped>\n",
       "    .dataframe tbody tr th:only-of-type {\n",
       "        vertical-align: middle;\n",
       "    }\n",
       "\n",
       "    .dataframe tbody tr th {\n",
       "        vertical-align: top;\n",
       "    }\n",
       "\n",
       "    .dataframe thead th {\n",
       "        text-align: right;\n",
       "    }\n",
       "</style>\n",
       "<table border=\"1\" class=\"dataframe\">\n",
       "  <thead>\n",
       "    <tr style=\"text-align: right;\">\n",
       "      <th></th>\n",
       "      <th>sentiment</th>\n",
       "      <th>review</th>\n",
       "      <th>length</th>\n",
       "    </tr>\n",
       "  </thead>\n",
       "  <tbody>\n",
       "    <tr>\n",
       "      <th>0</th>\n",
       "      <td>1</td>\n",
       "      <td>With all this stuff going down at the moment w...</td>\n",
       "      <td>2302</td>\n",
       "    </tr>\n",
       "    <tr>\n",
       "      <th>1</th>\n",
       "      <td>1</td>\n",
       "      <td>\\The Classic War of the Worlds\\\" by Timothy Hi...</td>\n",
       "      <td>946</td>\n",
       "    </tr>\n",
       "    <tr>\n",
       "      <th>2</th>\n",
       "      <td>0</td>\n",
       "      <td>The film starts with a manager (Nicholas Bell)...</td>\n",
       "      <td>2449</td>\n",
       "    </tr>\n",
       "    <tr>\n",
       "      <th>3</th>\n",
       "      <td>0</td>\n",
       "      <td>It must be assumed that those who praised this...</td>\n",
       "      <td>2245</td>\n",
       "    </tr>\n",
       "    <tr>\n",
       "      <th>4</th>\n",
       "      <td>1</td>\n",
       "      <td>Superbly trashy and wondrously unpretentious 8...</td>\n",
       "      <td>2231</td>\n",
       "    </tr>\n",
       "    <tr>\n",
       "      <th>...</th>\n",
       "      <td>...</td>\n",
       "      <td>...</td>\n",
       "      <td>...</td>\n",
       "    </tr>\n",
       "    <tr>\n",
       "      <th>24995</th>\n",
       "      <td>0</td>\n",
       "      <td>It seems like more consideration has gone into...</td>\n",
       "      <td>580</td>\n",
       "    </tr>\n",
       "    <tr>\n",
       "      <th>24996</th>\n",
       "      <td>0</td>\n",
       "      <td>I don't believe they made this film. Completel...</td>\n",
       "      <td>975</td>\n",
       "    </tr>\n",
       "    <tr>\n",
       "      <th>24997</th>\n",
       "      <td>0</td>\n",
       "      <td>Guy is a loser. Can't get girls, needs to buil...</td>\n",
       "      <td>641</td>\n",
       "    </tr>\n",
       "    <tr>\n",
       "      <th>24998</th>\n",
       "      <td>0</td>\n",
       "      <td>This 30 minute documentary Buñuel made in the ...</td>\n",
       "      <td>1141</td>\n",
       "    </tr>\n",
       "    <tr>\n",
       "      <th>24999</th>\n",
       "      <td>1</td>\n",
       "      <td>I saw this movie as a child and it broke my he...</td>\n",
       "      <td>942</td>\n",
       "    </tr>\n",
       "  </tbody>\n",
       "</table>\n",
       "<p>25000 rows × 3 columns</p>\n",
       "</div>"
      ],
      "text/plain": [
       "       sentiment                                             review  length\n",
       "0              1  With all this stuff going down at the moment w...    2302\n",
       "1              1  \\The Classic War of the Worlds\\\" by Timothy Hi...     946\n",
       "2              0  The film starts with a manager (Nicholas Bell)...    2449\n",
       "3              0  It must be assumed that those who praised this...    2245\n",
       "4              1  Superbly trashy and wondrously unpretentious 8...    2231\n",
       "...          ...                                                ...     ...\n",
       "24995          0  It seems like more consideration has gone into...     580\n",
       "24996          0  I don't believe they made this film. Completel...     975\n",
       "24997          0  Guy is a loser. Can't get girls, needs to buil...     641\n",
       "24998          0  This 30 minute documentary Buñuel made in the ...    1141\n",
       "24999          1  I saw this movie as a child and it broke my he...     942\n",
       "\n",
       "[25000 rows x 3 columns]"
      ]
     },
     "execution_count": 11,
     "metadata": {},
     "output_type": "execute_result"
    }
   ],
   "source": [
    "df['length'] = df['review'].apply(len)\n",
    "df"
   ]
  },
  {
   "cell_type": "code",
   "execution_count": 12,
   "metadata": {},
   "outputs": [],
   "source": [
    "from sklearn.model_selection import train_test_split"
   ]
  },
  {
   "cell_type": "code",
   "execution_count": 13,
   "metadata": {},
   "outputs": [],
   "source": [
    "from sklearn.feature_extraction.text import CountVectorizer\n",
    "from sklearn.feature_extraction.text import TfidfTransformer\n",
    "from sklearn.naive_bayes import MultinomialNB"
   ]
  },
  {
   "cell_type": "code",
   "execution_count": 14,
   "metadata": {},
   "outputs": [],
   "source": [
    "from sklearn.metrics import classification_report, confusion_matrix\n",
    "from sklearn.metrics import accuracy_score"
   ]
  },
  {
   "cell_type": "code",
   "execution_count": 15,
   "metadata": {},
   "outputs": [],
   "source": [
    "from sklearn.feature_extraction.text import TfidfVectorizer\n",
    "from sklearn.linear_model import LogisticRegression"
   ]
  },
  {
   "cell_type": "markdown",
   "metadata": {},
   "source": [
    "# Gensim + KNN"
   ]
  },
  {
   "cell_type": "code",
   "execution_count": 16,
   "metadata": {},
   "outputs": [],
   "source": [
    "from sklearn.neighbors import KNeighborsClassifier"
   ]
  },
  {
   "cell_type": "code",
   "execution_count": 17,
   "metadata": {},
   "outputs": [],
   "source": [
    "import gensim.downloader as api\n",
    "\n",
    "wv = api.load('word2vec-google-news-300')"
   ]
  },
  {
   "cell_type": "code",
   "execution_count": 18,
   "metadata": {},
   "outputs": [],
   "source": [
    "words = df['review'].str.split()\n",
    "words = pd.DataFrame(words.tolist())"
   ]
  },
  {
   "cell_type": "code",
   "execution_count": 19,
   "metadata": {},
   "outputs": [
    {
     "data": {
      "text/html": [
       "<div>\n",
       "<style scoped>\n",
       "    .dataframe tbody tr th:only-of-type {\n",
       "        vertical-align: middle;\n",
       "    }\n",
       "\n",
       "    .dataframe tbody tr th {\n",
       "        vertical-align: top;\n",
       "    }\n",
       "\n",
       "    .dataframe thead th {\n",
       "        text-align: right;\n",
       "    }\n",
       "</style>\n",
       "<table border=\"1\" class=\"dataframe\">\n",
       "  <thead>\n",
       "    <tr style=\"text-align: right;\">\n",
       "      <th></th>\n",
       "      <th>0</th>\n",
       "      <th>1</th>\n",
       "      <th>2</th>\n",
       "      <th>3</th>\n",
       "      <th>4</th>\n",
       "      <th>5</th>\n",
       "      <th>6</th>\n",
       "      <th>7</th>\n",
       "      <th>8</th>\n",
       "      <th>9</th>\n",
       "      <th>...</th>\n",
       "      <th>2509</th>\n",
       "      <th>2510</th>\n",
       "      <th>2511</th>\n",
       "      <th>2512</th>\n",
       "      <th>2513</th>\n",
       "      <th>2514</th>\n",
       "      <th>2515</th>\n",
       "      <th>2516</th>\n",
       "      <th>2517</th>\n",
       "      <th>2518</th>\n",
       "    </tr>\n",
       "  </thead>\n",
       "  <tbody>\n",
       "    <tr>\n",
       "      <th>0</th>\n",
       "      <td>with</td>\n",
       "      <td>all</td>\n",
       "      <td>this</td>\n",
       "      <td>stuff</td>\n",
       "      <td>going</td>\n",
       "      <td>down</td>\n",
       "      <td>at</td>\n",
       "      <td>the</td>\n",
       "      <td>moment</td>\n",
       "      <td>with</td>\n",
       "      <td>...</td>\n",
       "      <td>None</td>\n",
       "      <td>None</td>\n",
       "      <td>None</td>\n",
       "      <td>None</td>\n",
       "      <td>None</td>\n",
       "      <td>None</td>\n",
       "      <td>None</td>\n",
       "      <td>None</td>\n",
       "      <td>None</td>\n",
       "      <td>None</td>\n",
       "    </tr>\n",
       "    <tr>\n",
       "      <th>1</th>\n",
       "      <td>the</td>\n",
       "      <td>classic</td>\n",
       "      <td>war</td>\n",
       "      <td>of</td>\n",
       "      <td>the</td>\n",
       "      <td>worlds</td>\n",
       "      <td>by</td>\n",
       "      <td>timothy</td>\n",
       "      <td>hines</td>\n",
       "      <td>is</td>\n",
       "      <td>...</td>\n",
       "      <td>None</td>\n",
       "      <td>None</td>\n",
       "      <td>None</td>\n",
       "      <td>None</td>\n",
       "      <td>None</td>\n",
       "      <td>None</td>\n",
       "      <td>None</td>\n",
       "      <td>None</td>\n",
       "      <td>None</td>\n",
       "      <td>None</td>\n",
       "    </tr>\n",
       "    <tr>\n",
       "      <th>2</th>\n",
       "      <td>the</td>\n",
       "      <td>film</td>\n",
       "      <td>starts</td>\n",
       "      <td>with</td>\n",
       "      <td>a</td>\n",
       "      <td>manager</td>\n",
       "      <td>nicholas</td>\n",
       "      <td>bell</td>\n",
       "      <td>giving</td>\n",
       "      <td>welcome</td>\n",
       "      <td>...</td>\n",
       "      <td>None</td>\n",
       "      <td>None</td>\n",
       "      <td>None</td>\n",
       "      <td>None</td>\n",
       "      <td>None</td>\n",
       "      <td>None</td>\n",
       "      <td>None</td>\n",
       "      <td>None</td>\n",
       "      <td>None</td>\n",
       "      <td>None</td>\n",
       "    </tr>\n",
       "    <tr>\n",
       "      <th>3</th>\n",
       "      <td>it</td>\n",
       "      <td>must</td>\n",
       "      <td>be</td>\n",
       "      <td>assumed</td>\n",
       "      <td>that</td>\n",
       "      <td>those</td>\n",
       "      <td>who</td>\n",
       "      <td>praised</td>\n",
       "      <td>this</td>\n",
       "      <td>film</td>\n",
       "      <td>...</td>\n",
       "      <td>None</td>\n",
       "      <td>None</td>\n",
       "      <td>None</td>\n",
       "      <td>None</td>\n",
       "      <td>None</td>\n",
       "      <td>None</td>\n",
       "      <td>None</td>\n",
       "      <td>None</td>\n",
       "      <td>None</td>\n",
       "      <td>None</td>\n",
       "    </tr>\n",
       "    <tr>\n",
       "      <th>4</th>\n",
       "      <td>superbly</td>\n",
       "      <td>trashy</td>\n",
       "      <td>and</td>\n",
       "      <td>wondrously</td>\n",
       "      <td>unpretentious</td>\n",
       "      <td>80</td>\n",
       "      <td>s</td>\n",
       "      <td>exploitation</td>\n",
       "      <td>hooray</td>\n",
       "      <td>the</td>\n",
       "      <td>...</td>\n",
       "      <td>None</td>\n",
       "      <td>None</td>\n",
       "      <td>None</td>\n",
       "      <td>None</td>\n",
       "      <td>None</td>\n",
       "      <td>None</td>\n",
       "      <td>None</td>\n",
       "      <td>None</td>\n",
       "      <td>None</td>\n",
       "      <td>None</td>\n",
       "    </tr>\n",
       "    <tr>\n",
       "      <th>...</th>\n",
       "      <td>...</td>\n",
       "      <td>...</td>\n",
       "      <td>...</td>\n",
       "      <td>...</td>\n",
       "      <td>...</td>\n",
       "      <td>...</td>\n",
       "      <td>...</td>\n",
       "      <td>...</td>\n",
       "      <td>...</td>\n",
       "      <td>...</td>\n",
       "      <td>...</td>\n",
       "      <td>...</td>\n",
       "      <td>...</td>\n",
       "      <td>...</td>\n",
       "      <td>...</td>\n",
       "      <td>...</td>\n",
       "      <td>...</td>\n",
       "      <td>...</td>\n",
       "      <td>...</td>\n",
       "      <td>...</td>\n",
       "      <td>...</td>\n",
       "    </tr>\n",
       "    <tr>\n",
       "      <th>24995</th>\n",
       "      <td>it</td>\n",
       "      <td>seems</td>\n",
       "      <td>like</td>\n",
       "      <td>more</td>\n",
       "      <td>consideration</td>\n",
       "      <td>has</td>\n",
       "      <td>gone</td>\n",
       "      <td>into</td>\n",
       "      <td>the</td>\n",
       "      <td>imdb</td>\n",
       "      <td>...</td>\n",
       "      <td>None</td>\n",
       "      <td>None</td>\n",
       "      <td>None</td>\n",
       "      <td>None</td>\n",
       "      <td>None</td>\n",
       "      <td>None</td>\n",
       "      <td>None</td>\n",
       "      <td>None</td>\n",
       "      <td>None</td>\n",
       "      <td>None</td>\n",
       "    </tr>\n",
       "    <tr>\n",
       "      <th>24996</th>\n",
       "      <td>i</td>\n",
       "      <td>don</td>\n",
       "      <td>t</td>\n",
       "      <td>believe</td>\n",
       "      <td>they</td>\n",
       "      <td>made</td>\n",
       "      <td>this</td>\n",
       "      <td>film</td>\n",
       "      <td>completely</td>\n",
       "      <td>unnecessary</td>\n",
       "      <td>...</td>\n",
       "      <td>None</td>\n",
       "      <td>None</td>\n",
       "      <td>None</td>\n",
       "      <td>None</td>\n",
       "      <td>None</td>\n",
       "      <td>None</td>\n",
       "      <td>None</td>\n",
       "      <td>None</td>\n",
       "      <td>None</td>\n",
       "      <td>None</td>\n",
       "    </tr>\n",
       "    <tr>\n",
       "      <th>24997</th>\n",
       "      <td>guy</td>\n",
       "      <td>is</td>\n",
       "      <td>a</td>\n",
       "      <td>loser</td>\n",
       "      <td>can</td>\n",
       "      <td>t</td>\n",
       "      <td>get</td>\n",
       "      <td>girls</td>\n",
       "      <td>needs</td>\n",
       "      <td>to</td>\n",
       "      <td>...</td>\n",
       "      <td>None</td>\n",
       "      <td>None</td>\n",
       "      <td>None</td>\n",
       "      <td>None</td>\n",
       "      <td>None</td>\n",
       "      <td>None</td>\n",
       "      <td>None</td>\n",
       "      <td>None</td>\n",
       "      <td>None</td>\n",
       "      <td>None</td>\n",
       "    </tr>\n",
       "    <tr>\n",
       "      <th>24998</th>\n",
       "      <td>this</td>\n",
       "      <td>30</td>\n",
       "      <td>minute</td>\n",
       "      <td>documentary</td>\n",
       "      <td>buñuel</td>\n",
       "      <td>made</td>\n",
       "      <td>in</td>\n",
       "      <td>the</td>\n",
       "      <td>early</td>\n",
       "      <td>1930</td>\n",
       "      <td>...</td>\n",
       "      <td>None</td>\n",
       "      <td>None</td>\n",
       "      <td>None</td>\n",
       "      <td>None</td>\n",
       "      <td>None</td>\n",
       "      <td>None</td>\n",
       "      <td>None</td>\n",
       "      <td>None</td>\n",
       "      <td>None</td>\n",
       "      <td>None</td>\n",
       "    </tr>\n",
       "    <tr>\n",
       "      <th>24999</th>\n",
       "      <td>i</td>\n",
       "      <td>saw</td>\n",
       "      <td>this</td>\n",
       "      <td>movie</td>\n",
       "      <td>as</td>\n",
       "      <td>a</td>\n",
       "      <td>child</td>\n",
       "      <td>and</td>\n",
       "      <td>it</td>\n",
       "      <td>broke</td>\n",
       "      <td>...</td>\n",
       "      <td>None</td>\n",
       "      <td>None</td>\n",
       "      <td>None</td>\n",
       "      <td>None</td>\n",
       "      <td>None</td>\n",
       "      <td>None</td>\n",
       "      <td>None</td>\n",
       "      <td>None</td>\n",
       "      <td>None</td>\n",
       "      <td>None</td>\n",
       "    </tr>\n",
       "  </tbody>\n",
       "</table>\n",
       "<p>25000 rows × 2519 columns</p>\n",
       "</div>"
      ],
      "text/plain": [
       "           0        1       2            3              4        5     \\\n",
       "0          with      all    this        stuff          going     down   \n",
       "1           the  classic     war           of            the   worlds   \n",
       "2           the     film  starts         with              a  manager   \n",
       "3            it     must      be      assumed           that    those   \n",
       "4      superbly   trashy     and   wondrously  unpretentious       80   \n",
       "...         ...      ...     ...          ...            ...      ...   \n",
       "24995        it    seems    like         more  consideration      has   \n",
       "24996         i      don       t      believe           they     made   \n",
       "24997       guy       is       a        loser            can        t   \n",
       "24998      this       30  minute  documentary         buñuel     made   \n",
       "24999         i      saw    this        movie             as        a   \n",
       "\n",
       "           6             7           8            9     ...  2509  2510  2511  \\\n",
       "0            at           the      moment         with  ...  None  None  None   \n",
       "1            by       timothy       hines           is  ...  None  None  None   \n",
       "2      nicholas          bell      giving      welcome  ...  None  None  None   \n",
       "3           who       praised        this         film  ...  None  None  None   \n",
       "4             s  exploitation      hooray          the  ...  None  None  None   \n",
       "...         ...           ...         ...          ...  ...   ...   ...   ...   \n",
       "24995      gone          into         the         imdb  ...  None  None  None   \n",
       "24996      this          film  completely  unnecessary  ...  None  None  None   \n",
       "24997       get         girls       needs           to  ...  None  None  None   \n",
       "24998        in           the       early         1930  ...  None  None  None   \n",
       "24999     child           and          it        broke  ...  None  None  None   \n",
       "\n",
       "       2512  2513  2514  2515  2516  2517  2518  \n",
       "0      None  None  None  None  None  None  None  \n",
       "1      None  None  None  None  None  None  None  \n",
       "2      None  None  None  None  None  None  None  \n",
       "3      None  None  None  None  None  None  None  \n",
       "4      None  None  None  None  None  None  None  \n",
       "...     ...   ...   ...   ...   ...   ...   ...  \n",
       "24995  None  None  None  None  None  None  None  \n",
       "24996  None  None  None  None  None  None  None  \n",
       "24997  None  None  None  None  None  None  None  \n",
       "24998  None  None  None  None  None  None  None  \n",
       "24999  None  None  None  None  None  None  None  \n",
       "\n",
       "[25000 rows x 2519 columns]"
      ]
     },
     "execution_count": 19,
     "metadata": {},
     "output_type": "execute_result"
    }
   ],
   "source": [
    "import re\n",
    "\n",
    "replaceDict = dict({\n",
    "'{':\" \", '}':\" \", ',':\"\", '.':\" \", '!':\" \", '\\\\':\" \", '/':\" \", '$':\" \", '%':\" \",\n",
    "'^':\" \", '?':\" \", '\\'':\" \", '\"':\" \", '(':\" \", ')':\" \", '*':\" \", '+':\" \", '-':\" \",\n",
    "'=':\" \", ':':\" \", ';':\" \", ']':\" \", '[':\" \", '`':\" \", '~':\" \",\n",
    "})\n",
    "\n",
    "rep = dict((re.escape(k), v) for k, v in replaceDict.items())\n",
    "pattern = re.compile(\"|\".join(rep.keys()))\n",
    "def replacer(text):\n",
    "    return rep[re.escape(text.group(0))]\n",
    "\n",
    "words = df['review'].str.replace(pattern, replacer).str.lower().str.split()\n",
    "words = pd.DataFrame(words.tolist())\n",
    "words"
   ]
  },
  {
   "cell_type": "code",
   "execution_count": 20,
   "metadata": {},
   "outputs": [
    {
     "name": "stdout",
     "output_type": "stream",
     "text": [
      "                                                       0\n",
      "0      [17.283424377441406, 11.937847137451172, 18.50...\n",
      "1      [4.77899169921875, 6.74494743347168, 3.5442886...\n",
      "2      [7.668853759765625, 18.400442123413086, 2.1170...\n",
      "3      [13.43841552734375, 9.676690101623535, 3.18444...\n",
      "4      [17.447418212890625, 9.209012031555176, 8.3933...\n",
      "...                                                  ...\n",
      "24995  [4.8431396484375, 3.083902359008789, 0.0447769...\n",
      "24996  [5.86322021484375, 2.340229034423828, 2.210128...\n",
      "24997  [2.1606979370117188, 3.7890892028808594, -0.08...\n",
      "24998  [9.051055908203125, 3.2181758880615234, 9.6830...\n",
      "24999  [5.10003662109375, 7.309170722961426, -0.03271...\n",
      "\n",
      "[25000 rows x 1 columns]\n"
     ]
    }
   ],
   "source": [
    "def soft_get(w):\n",
    "    try:\n",
    "        return wv[w]\n",
    "    except KeyError:\n",
    "        return np.zeros(wv.vector_size)\n",
    "def map_vectors(row):\n",
    "    try:\n",
    "        return np.sum(\n",
    "            row.loc[row.notna()].apply(soft_get)\n",
    "        )\n",
    "    except:\n",
    "        return np.zeros(wv.vector_size)\n",
    "emb = pd.DataFrame(words.apply(map_vectors, axis=1))\n",
    "print(emb)\n",
    "emb.columns = ['C']\n",
    "emb = pd.DataFrame(np.array(emb.C.apply(pd.Series)))"
   ]
  },
  {
   "cell_type": "code",
   "execution_count": 21,
   "metadata": {},
   "outputs": [
    {
     "data": {
      "text/html": [
       "<div>\n",
       "<style scoped>\n",
       "    .dataframe tbody tr th:only-of-type {\n",
       "        vertical-align: middle;\n",
       "    }\n",
       "\n",
       "    .dataframe tbody tr th {\n",
       "        vertical-align: top;\n",
       "    }\n",
       "\n",
       "    .dataframe thead th {\n",
       "        text-align: right;\n",
       "    }\n",
       "</style>\n",
       "<table border=\"1\" class=\"dataframe\">\n",
       "  <thead>\n",
       "    <tr style=\"text-align: right;\">\n",
       "      <th></th>\n",
       "      <th>0</th>\n",
       "      <th>1</th>\n",
       "      <th>2</th>\n",
       "      <th>3</th>\n",
       "      <th>4</th>\n",
       "      <th>5</th>\n",
       "      <th>6</th>\n",
       "      <th>7</th>\n",
       "      <th>8</th>\n",
       "      <th>9</th>\n",
       "      <th>...</th>\n",
       "      <th>290</th>\n",
       "      <th>291</th>\n",
       "      <th>292</th>\n",
       "      <th>293</th>\n",
       "      <th>294</th>\n",
       "      <th>295</th>\n",
       "      <th>296</th>\n",
       "      <th>297</th>\n",
       "      <th>298</th>\n",
       "      <th>299</th>\n",
       "    </tr>\n",
       "  </thead>\n",
       "  <tbody>\n",
       "    <tr>\n",
       "      <th>0</th>\n",
       "      <td>17.283424</td>\n",
       "      <td>11.937847</td>\n",
       "      <td>18.506580</td>\n",
       "      <td>45.120676</td>\n",
       "      <td>-24.435819</td>\n",
       "      <td>3.551744</td>\n",
       "      <td>12.055645</td>\n",
       "      <td>-27.254570</td>\n",
       "      <td>30.983692</td>\n",
       "      <td>19.554092</td>\n",
       "      <td>...</td>\n",
       "      <td>-24.531746</td>\n",
       "      <td>23.092484</td>\n",
       "      <td>-33.328987</td>\n",
       "      <td>9.722412</td>\n",
       "      <td>-26.716827</td>\n",
       "      <td>-10.303997</td>\n",
       "      <td>2.579872</td>\n",
       "      <td>-19.129990</td>\n",
       "      <td>11.317310</td>\n",
       "      <td>-4.080734</td>\n",
       "    </tr>\n",
       "    <tr>\n",
       "      <th>1</th>\n",
       "      <td>4.778992</td>\n",
       "      <td>6.744947</td>\n",
       "      <td>3.544289</td>\n",
       "      <td>15.174940</td>\n",
       "      <td>-8.201431</td>\n",
       "      <td>0.314445</td>\n",
       "      <td>4.249725</td>\n",
       "      <td>-9.231554</td>\n",
       "      <td>7.977154</td>\n",
       "      <td>8.119308</td>\n",
       "      <td>...</td>\n",
       "      <td>-12.727188</td>\n",
       "      <td>3.146690</td>\n",
       "      <td>-12.804749</td>\n",
       "      <td>3.808205</td>\n",
       "      <td>-6.146217</td>\n",
       "      <td>-2.835491</td>\n",
       "      <td>-0.495293</td>\n",
       "      <td>-4.693481</td>\n",
       "      <td>4.241936</td>\n",
       "      <td>-0.824364</td>\n",
       "    </tr>\n",
       "    <tr>\n",
       "      <th>2</th>\n",
       "      <td>7.668854</td>\n",
       "      <td>18.400442</td>\n",
       "      <td>2.117029</td>\n",
       "      <td>24.500671</td>\n",
       "      <td>-17.646823</td>\n",
       "      <td>-1.491764</td>\n",
       "      <td>3.763025</td>\n",
       "      <td>-24.287819</td>\n",
       "      <td>18.558378</td>\n",
       "      <td>24.320732</td>\n",
       "      <td>...</td>\n",
       "      <td>-23.039650</td>\n",
       "      <td>6.284547</td>\n",
       "      <td>-23.298676</td>\n",
       "      <td>15.287937</td>\n",
       "      <td>-12.791531</td>\n",
       "      <td>-5.257778</td>\n",
       "      <td>2.578659</td>\n",
       "      <td>-12.364639</td>\n",
       "      <td>8.910461</td>\n",
       "      <td>4.143981</td>\n",
       "    </tr>\n",
       "    <tr>\n",
       "      <th>3</th>\n",
       "      <td>13.438416</td>\n",
       "      <td>9.676690</td>\n",
       "      <td>3.184448</td>\n",
       "      <td>28.120438</td>\n",
       "      <td>-22.092400</td>\n",
       "      <td>3.097771</td>\n",
       "      <td>14.640491</td>\n",
       "      <td>-28.468567</td>\n",
       "      <td>23.722717</td>\n",
       "      <td>22.710403</td>\n",
       "      <td>...</td>\n",
       "      <td>-25.556366</td>\n",
       "      <td>4.002686</td>\n",
       "      <td>-23.584404</td>\n",
       "      <td>9.610126</td>\n",
       "      <td>-10.111442</td>\n",
       "      <td>-2.726578</td>\n",
       "      <td>3.336586</td>\n",
       "      <td>-10.713562</td>\n",
       "      <td>16.601911</td>\n",
       "      <td>3.251701</td>\n",
       "    </tr>\n",
       "    <tr>\n",
       "      <th>4</th>\n",
       "      <td>17.447418</td>\n",
       "      <td>9.209012</td>\n",
       "      <td>8.393372</td>\n",
       "      <td>27.671641</td>\n",
       "      <td>-22.164581</td>\n",
       "      <td>1.606564</td>\n",
       "      <td>11.384158</td>\n",
       "      <td>-23.531187</td>\n",
       "      <td>22.702066</td>\n",
       "      <td>23.904671</td>\n",
       "      <td>...</td>\n",
       "      <td>-24.457840</td>\n",
       "      <td>10.056759</td>\n",
       "      <td>-29.204399</td>\n",
       "      <td>6.255138</td>\n",
       "      <td>-14.498840</td>\n",
       "      <td>-0.895094</td>\n",
       "      <td>6.454372</td>\n",
       "      <td>-19.625992</td>\n",
       "      <td>0.599186</td>\n",
       "      <td>1.965607</td>\n",
       "    </tr>\n",
       "    <tr>\n",
       "      <th>...</th>\n",
       "      <td>...</td>\n",
       "      <td>...</td>\n",
       "      <td>...</td>\n",
       "      <td>...</td>\n",
       "      <td>...</td>\n",
       "      <td>...</td>\n",
       "      <td>...</td>\n",
       "      <td>...</td>\n",
       "      <td>...</td>\n",
       "      <td>...</td>\n",
       "      <td>...</td>\n",
       "      <td>...</td>\n",
       "      <td>...</td>\n",
       "      <td>...</td>\n",
       "      <td>...</td>\n",
       "      <td>...</td>\n",
       "      <td>...</td>\n",
       "      <td>...</td>\n",
       "      <td>...</td>\n",
       "      <td>...</td>\n",
       "      <td>...</td>\n",
       "    </tr>\n",
       "    <tr>\n",
       "      <th>24995</th>\n",
       "      <td>4.843140</td>\n",
       "      <td>3.083902</td>\n",
       "      <td>0.044777</td>\n",
       "      <td>8.552612</td>\n",
       "      <td>-7.245542</td>\n",
       "      <td>1.479004</td>\n",
       "      <td>4.257339</td>\n",
       "      <td>-4.647678</td>\n",
       "      <td>4.680054</td>\n",
       "      <td>2.775642</td>\n",
       "      <td>...</td>\n",
       "      <td>-5.378468</td>\n",
       "      <td>6.225250</td>\n",
       "      <td>-7.275024</td>\n",
       "      <td>3.712402</td>\n",
       "      <td>-4.262329</td>\n",
       "      <td>-1.908768</td>\n",
       "      <td>4.530167</td>\n",
       "      <td>-3.873884</td>\n",
       "      <td>-0.512589</td>\n",
       "      <td>0.154842</td>\n",
       "    </tr>\n",
       "    <tr>\n",
       "      <th>24996</th>\n",
       "      <td>5.863220</td>\n",
       "      <td>2.340229</td>\n",
       "      <td>2.210129</td>\n",
       "      <td>12.314983</td>\n",
       "      <td>-7.772020</td>\n",
       "      <td>1.114616</td>\n",
       "      <td>10.503281</td>\n",
       "      <td>-13.057060</td>\n",
       "      <td>13.101852</td>\n",
       "      <td>12.770050</td>\n",
       "      <td>...</td>\n",
       "      <td>-15.988598</td>\n",
       "      <td>6.903183</td>\n",
       "      <td>-15.212250</td>\n",
       "      <td>2.484120</td>\n",
       "      <td>-5.440849</td>\n",
       "      <td>-1.743176</td>\n",
       "      <td>2.057991</td>\n",
       "      <td>-6.311344</td>\n",
       "      <td>6.623047</td>\n",
       "      <td>-2.365334</td>\n",
       "    </tr>\n",
       "    <tr>\n",
       "      <th>24997</th>\n",
       "      <td>2.160698</td>\n",
       "      <td>3.789089</td>\n",
       "      <td>-0.081245</td>\n",
       "      <td>13.001617</td>\n",
       "      <td>-8.620522</td>\n",
       "      <td>-1.689472</td>\n",
       "      <td>2.976837</td>\n",
       "      <td>-6.946411</td>\n",
       "      <td>7.065413</td>\n",
       "      <td>7.312721</td>\n",
       "      <td>...</td>\n",
       "      <td>-7.426193</td>\n",
       "      <td>9.140686</td>\n",
       "      <td>-10.666756</td>\n",
       "      <td>4.078735</td>\n",
       "      <td>-6.753197</td>\n",
       "      <td>0.665543</td>\n",
       "      <td>-0.919044</td>\n",
       "      <td>-7.831268</td>\n",
       "      <td>3.209351</td>\n",
       "      <td>-2.725433</td>\n",
       "    </tr>\n",
       "    <tr>\n",
       "      <th>24998</th>\n",
       "      <td>9.051056</td>\n",
       "      <td>3.218176</td>\n",
       "      <td>9.683090</td>\n",
       "      <td>16.531189</td>\n",
       "      <td>-7.922881</td>\n",
       "      <td>3.315762</td>\n",
       "      <td>9.002274</td>\n",
       "      <td>-17.094444</td>\n",
       "      <td>12.638168</td>\n",
       "      <td>7.161171</td>\n",
       "      <td>...</td>\n",
       "      <td>-16.743801</td>\n",
       "      <td>0.952118</td>\n",
       "      <td>-15.382585</td>\n",
       "      <td>2.369106</td>\n",
       "      <td>-11.096809</td>\n",
       "      <td>-1.904205</td>\n",
       "      <td>-0.214203</td>\n",
       "      <td>-5.103699</td>\n",
       "      <td>12.709579</td>\n",
       "      <td>-2.317215</td>\n",
       "    </tr>\n",
       "    <tr>\n",
       "      <th>24999</th>\n",
       "      <td>5.100037</td>\n",
       "      <td>7.309171</td>\n",
       "      <td>-0.032715</td>\n",
       "      <td>17.608094</td>\n",
       "      <td>-8.114711</td>\n",
       "      <td>2.118683</td>\n",
       "      <td>9.659119</td>\n",
       "      <td>-9.665316</td>\n",
       "      <td>13.272865</td>\n",
       "      <td>13.193047</td>\n",
       "      <td>...</td>\n",
       "      <td>-12.379272</td>\n",
       "      <td>6.038727</td>\n",
       "      <td>-16.316090</td>\n",
       "      <td>5.599518</td>\n",
       "      <td>-8.328697</td>\n",
       "      <td>-1.204252</td>\n",
       "      <td>-1.484009</td>\n",
       "      <td>-5.121796</td>\n",
       "      <td>6.469944</td>\n",
       "      <td>-3.725159</td>\n",
       "    </tr>\n",
       "  </tbody>\n",
       "</table>\n",
       "<p>25000 rows × 300 columns</p>\n",
       "</div>"
      ],
      "text/plain": [
       "             0          1          2          3          4         5    \\\n",
       "0      17.283424  11.937847  18.506580  45.120676 -24.435819  3.551744   \n",
       "1       4.778992   6.744947   3.544289  15.174940  -8.201431  0.314445   \n",
       "2       7.668854  18.400442   2.117029  24.500671 -17.646823 -1.491764   \n",
       "3      13.438416   9.676690   3.184448  28.120438 -22.092400  3.097771   \n",
       "4      17.447418   9.209012   8.393372  27.671641 -22.164581  1.606564   \n",
       "...          ...        ...        ...        ...        ...       ...   \n",
       "24995   4.843140   3.083902   0.044777   8.552612  -7.245542  1.479004   \n",
       "24996   5.863220   2.340229   2.210129  12.314983  -7.772020  1.114616   \n",
       "24997   2.160698   3.789089  -0.081245  13.001617  -8.620522 -1.689472   \n",
       "24998   9.051056   3.218176   9.683090  16.531189  -7.922881  3.315762   \n",
       "24999   5.100037   7.309171  -0.032715  17.608094  -8.114711  2.118683   \n",
       "\n",
       "             6          7          8          9    ...        290        291  \\\n",
       "0      12.055645 -27.254570  30.983692  19.554092  ... -24.531746  23.092484   \n",
       "1       4.249725  -9.231554   7.977154   8.119308  ... -12.727188   3.146690   \n",
       "2       3.763025 -24.287819  18.558378  24.320732  ... -23.039650   6.284547   \n",
       "3      14.640491 -28.468567  23.722717  22.710403  ... -25.556366   4.002686   \n",
       "4      11.384158 -23.531187  22.702066  23.904671  ... -24.457840  10.056759   \n",
       "...          ...        ...        ...        ...  ...        ...        ...   \n",
       "24995   4.257339  -4.647678   4.680054   2.775642  ...  -5.378468   6.225250   \n",
       "24996  10.503281 -13.057060  13.101852  12.770050  ... -15.988598   6.903183   \n",
       "24997   2.976837  -6.946411   7.065413   7.312721  ...  -7.426193   9.140686   \n",
       "24998   9.002274 -17.094444  12.638168   7.161171  ... -16.743801   0.952118   \n",
       "24999   9.659119  -9.665316  13.272865  13.193047  ... -12.379272   6.038727   \n",
       "\n",
       "             292        293        294        295       296        297  \\\n",
       "0     -33.328987   9.722412 -26.716827 -10.303997  2.579872 -19.129990   \n",
       "1     -12.804749   3.808205  -6.146217  -2.835491 -0.495293  -4.693481   \n",
       "2     -23.298676  15.287937 -12.791531  -5.257778  2.578659 -12.364639   \n",
       "3     -23.584404   9.610126 -10.111442  -2.726578  3.336586 -10.713562   \n",
       "4     -29.204399   6.255138 -14.498840  -0.895094  6.454372 -19.625992   \n",
       "...          ...        ...        ...        ...       ...        ...   \n",
       "24995  -7.275024   3.712402  -4.262329  -1.908768  4.530167  -3.873884   \n",
       "24996 -15.212250   2.484120  -5.440849  -1.743176  2.057991  -6.311344   \n",
       "24997 -10.666756   4.078735  -6.753197   0.665543 -0.919044  -7.831268   \n",
       "24998 -15.382585   2.369106 -11.096809  -1.904205 -0.214203  -5.103699   \n",
       "24999 -16.316090   5.599518  -8.328697  -1.204252 -1.484009  -5.121796   \n",
       "\n",
       "             298       299  \n",
       "0      11.317310 -4.080734  \n",
       "1       4.241936 -0.824364  \n",
       "2       8.910461  4.143981  \n",
       "3      16.601911  3.251701  \n",
       "4       0.599186  1.965607  \n",
       "...          ...       ...  \n",
       "24995  -0.512589  0.154842  \n",
       "24996   6.623047 -2.365334  \n",
       "24997   3.209351 -2.725433  \n",
       "24998  12.709579 -2.317215  \n",
       "24999   6.469944 -3.725159  \n",
       "\n",
       "[25000 rows x 300 columns]"
      ]
     },
     "execution_count": 21,
     "metadata": {},
     "output_type": "execute_result"
    }
   ],
   "source": [
    "emb"
   ]
  },
  {
   "cell_type": "code",
   "execution_count": 22,
   "metadata": {},
   "outputs": [
    {
     "data": {
      "text/plain": [
       "StandardScaler()"
      ]
     },
     "execution_count": 22,
     "metadata": {},
     "output_type": "execute_result"
    }
   ],
   "source": [
    "sscaler = StandardScaler()\n",
    "sscaler.fit(emb)"
   ]
  },
  {
   "cell_type": "code",
   "execution_count": 23,
   "metadata": {},
   "outputs": [],
   "source": [
    "scaled_features = sscaler.transform(emb)\n",
    "\n",
    "X_train1, X_test1, y_train1, y_test1 = train_test_split(scaled_features,df['sentiment'],\n",
    "                                                    test_size=0.30, random_state=42)"
   ]
  },
  {
   "cell_type": "code",
   "execution_count": 24,
   "metadata": {},
   "outputs": [],
   "source": [
    "knn = KNeighborsClassifier(n_neighbors=1)"
   ]
  },
  {
   "cell_type": "code",
   "execution_count": 29,
   "metadata": {},
   "outputs": [
    {
     "data": {
      "text/plain": [
       "KNeighborsClassifier(n_neighbors=1)"
      ]
     },
     "execution_count": 29,
     "metadata": {},
     "output_type": "execute_result"
    }
   ],
   "source": [
    "knn.fit(X_train1,y_train1)"
   ]
  },
  {
   "cell_type": "code",
   "execution_count": 30,
   "metadata": {},
   "outputs": [],
   "source": [
    "pred_knn = knn.predict(X_test1)"
   ]
  },
  {
   "cell_type": "code",
   "execution_count": 31,
   "metadata": {},
   "outputs": [
    {
     "name": "stdout",
     "output_type": "stream",
     "text": [
      "[[2681 1057]\n",
      " [1262 2500]]\n"
     ]
    }
   ],
   "source": [
    "print(confusion_matrix(y_test1,pred_knn))"
   ]
  },
  {
   "cell_type": "code",
   "execution_count": 33,
   "metadata": {},
   "outputs": [
    {
     "name": "stdout",
     "output_type": "stream",
     "text": [
      "              precision    recall  f1-score   support\n",
      "\n",
      "           0       0.68      0.72      0.70      3738\n",
      "           1       0.70      0.66      0.68      3762\n",
      "\n",
      "    accuracy                           0.69      7500\n",
      "   macro avg       0.69      0.69      0.69      7500\n",
      "weighted avg       0.69      0.69      0.69      7500\n",
      "\n"
     ]
    }
   ],
   "source": [
    "print(classification_report(y_test1,pred_knn))"
   ]
  },
  {
   "cell_type": "code",
   "execution_count": 36,
   "metadata": {},
   "outputs": [],
   "source": [
    "error_rate = []\n",
    "\n",
    "# Will take some time\n",
    "for i in range(1,10):\n",
    "    \n",
    "    knn = KNeighborsClassifier(n_neighbors=i)\n",
    "    knn.fit(X_train1,y_train1)\n",
    "    pred_i = knn.predict(X_test1)\n",
    "    error_rate.append(np.mean(pred_i != y_test1))"
   ]
  },
  {
   "cell_type": "code",
   "execution_count": 38,
   "metadata": {},
   "outputs": [
    {
     "data": {
      "text/plain": [
       "Text(0, 0.5, 'Error Rate')"
      ]
     },
     "execution_count": 38,
     "metadata": {},
     "output_type": "execute_result"
    },
    {
     "data": {
      "image/png": "[encoded data removed]",
      "text/plain": [
       "<Figure size 720x432 with 1 Axes>"
      ]
     },
     "metadata": {
      "needs_background": "light"
     },
     "output_type": "display_data"
    }
   ],
   "source": [
    "import matplotlib.pyplot as plt\n",
    "\n",
    "plt.figure(figsize=(10,6))\n",
    "plt.plot(range(1,10),error_rate,color='blue', linestyle='dashed', marker='o',\n",
    "         markerfacecolor='red', markersize=10)\n",
    "plt.title('Error Rate vs. K Value')\n",
    "plt.xlabel('K')\n",
    "plt.ylabel('Error Rate')"
   ]
  },
  {
   "cell_type": "code",
   "execution_count": 62,
   "metadata": {},
   "outputs": [
    {
     "data": {
      "text/plain": [
       "KNeighborsClassifier(n_neighbors=100)"
      ]
     },
     "execution_count": 62,
     "metadata": {},
     "output_type": "execute_result"
    }
   ],
   "source": [
    "knn15 = KNeighborsClassifier(n_neighbors=100)\n",
    "knn15.fit(X_train1,y_train1)"
   ]
  },
  {
   "cell_type": "code",
   "execution_count": 63,
   "metadata": {},
   "outputs": [],
   "source": [
    "pred_knn15 = knn15.predict(X_test1)"
   ]
  },
  {
   "cell_type": "code",
   "execution_count": 64,
   "metadata": {},
   "outputs": [
    {
     "name": "stdout",
     "output_type": "stream",
     "text": [
      "[[3353  385]\n",
      " [1315 2447]]\n"
     ]
    }
   ],
   "source": [
    "print(confusion_matrix(y_test1,pred_knn15))"
   ]
  },
  {
   "cell_type": "code",
   "execution_count": 65,
   "metadata": {},
   "outputs": [
    {
     "name": "stdout",
     "output_type": "stream",
     "text": [
      "              precision    recall  f1-score   support\n",
      "\n",
      "           0       0.72      0.90      0.80      3738\n",
      "           1       0.86      0.65      0.74      3762\n",
      "\n",
      "    accuracy                           0.77      7500\n",
      "   macro avg       0.79      0.77      0.77      7500\n",
      "weighted avg       0.79      0.77      0.77      7500\n",
      "\n"
     ]
    }
   ],
   "source": [
    "print(classification_report(y_test1,pred_knn15))"
   ]
  },
  {
   "cell_type": "code",
   "execution_count": null,
   "metadata": {},
   "outputs": [],
   "source": []
  },
  {
   "cell_type": "code",
   "execution_count": null,
   "metadata": {},
   "outputs": [],
   "source": []
  },
  {
   "cell_type": "markdown",
   "metadata": {},
   "source": [
    "# Count Vectorizer + Random Forest"
   ]
  },
  {
   "cell_type": "code",
   "execution_count": 66,
   "metadata": {},
   "outputs": [
    {
     "name": "stdout",
     "output_type": "stream",
     "text": [
      "17500 7500 25000\n"
     ]
    }
   ],
   "source": [
    "msg_train, msg_test, label_train, label_test = train_test_split(df['review'], df['sentiment'], test_size=0.3, random_state=42)\n",
    "\n",
    "print(len(msg_train), len(msg_test), len(msg_train) + len(msg_test))"
   ]
  },
  {
   "cell_type": "code",
   "execution_count": 67,
   "metadata": {},
   "outputs": [],
   "source": [
    "# Initialize the \"CountVectorizer\" object, which is scikit-learn's\n",
    "# bag of words tool.  \n",
    "vectorizer = CountVectorizer(analyzer = 'word',   \\\n",
    "                             tokenizer = None,    \\\n",
    "                             preprocessor = None, \\\n",
    "                             stop_words = None,   \\\n",
    "                             max_features = 5000) \n",
    "\n",
    "\n",
    "train_data_features = vectorizer.fit_transform(msg_train)\n",
    "\n",
    "# Numpy arrays are easy to work with, so convert the result to an \n",
    "# array\n",
    "train_data_features = train_data_features.toarray()"
   ]
  },
  {
   "cell_type": "code",
   "execution_count": null,
   "metadata": {},
   "outputs": [],
   "source": [
    "train_data_features.shape"
   ]
  },
  {
   "cell_type": "code",
   "execution_count": 68,
   "metadata": {},
   "outputs": [
    {
     "name": "stderr",
     "output_type": "stream",
     "text": [
      "[Parallel(n_jobs=1)]: Using backend SequentialBackend with 1 concurrent workers.\n"
     ]
    },
    {
     "name": "stdout",
     "output_type": "stream",
     "text": [
      "building tree 1 of 150\n"
     ]
    },
    {
     "name": "stderr",
     "output_type": "stream",
     "text": [
      "[Parallel(n_jobs=1)]: Done   1 out of   1 | elapsed:    0.6s remaining:    0.0s\n"
     ]
    },
    {
     "name": "stdout",
     "output_type": "stream",
     "text": [
      "building tree 2 of 150\n"
     ]
    },
    {
     "name": "stderr",
     "output_type": "stream",
     "text": [
      "[Parallel(n_jobs=1)]: Done   2 out of   2 | elapsed:    1.2s remaining:    0.0s\n"
     ]
    },
    {
     "name": "stdout",
     "output_type": "stream",
     "text": [
      "building tree 3 of 150\n"
     ]
    },
    {
     "name": "stderr",
     "output_type": "stream",
     "text": [
      "[Parallel(n_jobs=1)]: Done   3 out of   3 | elapsed:    1.9s remaining:    0.0s\n"
     ]
    },
    {
     "name": "stdout",
     "output_type": "stream",
     "text": [
      "building tree 4 of 150\n",
      "building tree 5 of 150\n",
      "building tree 6 of 150\n",
      "building tree 7 of 150\n",
      "building tree 8 of 150\n",
      "building tree 9 of 150\n",
      "building tree 10 of 150\n",
      "building tree 11 of 150\n",
      "building tree 12 of 150\n",
      "building tree 13 of 150\n",
      "building tree 14 of 150\n",
      "building tree 15 of 150\n",
      "building tree 16 of 150\n",
      "building tree 17 of 150\n",
      "building tree 18 of 150\n",
      "building tree 19 of 150\n",
      "building tree 20 of 150\n",
      "building tree 21 of 150\n",
      "building tree 22 of 150\n",
      "building tree 23 of 150\n",
      "building tree 24 of 150\n",
      "building tree 25 of 150\n",
      "building tree 26 of 150\n",
      "building tree 27 of 150\n",
      "building tree 28 of 150\n",
      "building tree 29 of 150\n",
      "building tree 30 of 150\n",
      "building tree 31 of 150\n",
      "building tree 32 of 150\n",
      "building tree 33 of 150\n",
      "building tree 34 of 150\n",
      "building tree 35 of 150\n",
      "building tree 36 of 150\n",
      "building tree 37 of 150\n",
      "building tree 38 of 150\n",
      "building tree 39 of 150\n",
      "building tree 40 of 150\n",
      "building tree 41 of 150\n",
      "building tree 42 of 150\n",
      "building tree 43 of 150\n",
      "building tree 44 of 150\n",
      "building tree 45 of 150\n",
      "building tree 46 of 150\n",
      "building tree 47 of 150\n",
      "building tree 48 of 150\n",
      "building tree 49 of 150\n",
      "building tree 50 of 150\n",
      "building tree 51 of 150\n",
      "building tree 52 of 150\n",
      "building tree 53 of 150\n",
      "building tree 54 of 150\n",
      "building tree 55 of 150\n",
      "building tree 56 of 150\n",
      "building tree 57 of 150\n",
      "building tree 58 of 150\n",
      "building tree 59 of 150\n",
      "building tree 60 of 150\n",
      "building tree 61 of 150\n",
      "building tree 62 of 150\n",
      "building tree 63 of 150\n",
      "building tree 64 of 150\n",
      "building tree 65 of 150\n",
      "building tree 66 of 150\n",
      "building tree 67 of 150\n",
      "building tree 68 of 150\n",
      "building tree 69 of 150\n",
      "building tree 70 of 150\n",
      "building tree 71 of 150\n",
      "building tree 72 of 150\n",
      "building tree 73 of 150\n",
      "building tree 74 of 150\n",
      "building tree 75 of 150\n",
      "building tree 76 of 150\n",
      "building tree 77 of 150\n",
      "building tree 78 of 150\n",
      "building tree 79 of 150\n",
      "building tree 80 of 150\n",
      "building tree 81 of 150\n",
      "building tree 82 of 150\n",
      "building tree 83 of 150\n",
      "building tree 84 of 150\n",
      "building tree 85 of 150\n",
      "building tree 86 of 150\n",
      "building tree 87 of 150\n",
      "building tree 88 of 150\n",
      "building tree 89 of 150\n",
      "building tree 90 of 150\n",
      "building tree 91 of 150\n",
      "building tree 92 of 150\n",
      "building tree 93 of 150\n",
      "building tree 94 of 150\n",
      "building tree 95 of 150\n",
      "building tree 96 of 150\n",
      "building tree 97 of 150\n",
      "building tree 98 of 150\n",
      "building tree 99 of 150\n",
      "building tree 100 of 150\n",
      "building tree 101 of 150\n",
      "building tree 102 of 150\n",
      "building tree 103 of 150\n",
      "building tree 104 of 150\n",
      "building tree 105 of 150\n",
      "building tree 106 of 150\n",
      "building tree 107 of 150\n",
      "building tree 108 of 150\n",
      "building tree 109 of 150\n",
      "building tree 110 of 150\n",
      "building tree 111 of 150\n",
      "building tree 112 of 150\n",
      "building tree 113 of 150\n",
      "building tree 114 of 150\n",
      "building tree 115 of 150\n",
      "building tree 116 of 150\n",
      "building tree 117 of 150\n",
      "building tree 118 of 150\n",
      "building tree 119 of 150\n",
      "building tree 120 of 150\n",
      "building tree 121 of 150\n",
      "building tree 122 of 150\n",
      "building tree 123 of 150\n",
      "building tree 124 of 150\n",
      "building tree 125 of 150\n",
      "building tree 126 of 150\n",
      "building tree 127 of 150\n",
      "building tree 128 of 150\n",
      "building tree 129 of 150\n",
      "building tree 130 of 150\n",
      "building tree 131 of 150\n",
      "building tree 132 of 150\n",
      "building tree 133 of 150\n",
      "building tree 134 of 150\n",
      "building tree 135 of 150\n",
      "building tree 136 of 150\n",
      "building tree 137 of 150\n",
      "building tree 138 of 150\n",
      "building tree 139 of 150\n",
      "building tree 140 of 150\n",
      "building tree 141 of 150\n",
      "building tree 142 of 150\n",
      "building tree 143 of 150\n",
      "building tree 144 of 150\n",
      "building tree 145 of 150\n",
      "building tree 146 of 150\n",
      "building tree 147 of 150\n",
      "building tree 148 of 150\n",
      "building tree 149 of 150\n",
      "building tree 150 of 150\n"
     ]
    },
    {
     "name": "stderr",
     "output_type": "stream",
     "text": [
      "[Parallel(n_jobs=1)]: Done 150 out of 150 | elapsed:  1.4min finished\n"
     ]
    }
   ],
   "source": [
    "from sklearn.ensemble import RandomForestClassifier\n",
    "\n",
    "# Initialize a Random Forest classifier with 100 trees\n",
    "forest = RandomForestClassifier(n_estimators = 150,criterion = 'entropy',verbose=4,max_features='sqrt') \n",
    "\n",
    "forest = forest.fit(train_data_features, label_train )"
   ]
  },
  {
   "cell_type": "code",
   "execution_count": 69,
   "metadata": {},
   "outputs": [],
   "source": [
    "test_data_features = vectorizer.transform(msg_test)\n",
    "test_data_features = test_data_features.toarray()"
   ]
  },
  {
   "cell_type": "code",
   "execution_count": 70,
   "metadata": {},
   "outputs": [
    {
     "name": "stderr",
     "output_type": "stream",
     "text": [
      "[Parallel(n_jobs=1)]: Using backend SequentialBackend with 1 concurrent workers.\n",
      "[Parallel(n_jobs=1)]: Done   1 out of   1 | elapsed:    0.0s remaining:    0.0s\n",
      "[Parallel(n_jobs=1)]: Done   2 out of   2 | elapsed:    0.0s remaining:    0.0s\n",
      "[Parallel(n_jobs=1)]: Done   3 out of   3 | elapsed:    0.0s remaining:    0.0s\n",
      "[Parallel(n_jobs=1)]: Done 150 out of 150 | elapsed:    1.0s finished\n"
     ]
    }
   ],
   "source": [
    "result = forest.predict(test_data_features)"
   ]
  },
  {
   "cell_type": "code",
   "execution_count": 71,
   "metadata": {},
   "outputs": [
    {
     "name": "stdout",
     "output_type": "stream",
     "text": [
      "              precision    recall  f1-score   support\n",
      "\n",
      "           0       0.85      0.84      0.85      3738\n",
      "           1       0.84      0.85      0.85      3762\n",
      "\n",
      "    accuracy                           0.85      7500\n",
      "   macro avg       0.85      0.85      0.85      7500\n",
      "weighted avg       0.85      0.85      0.85      7500\n",
      "\n"
     ]
    }
   ],
   "source": [
    "print(classification_report(label_test,result))"
   ]
  },
  {
   "cell_type": "code",
   "execution_count": 72,
   "metadata": {},
   "outputs": [
    {
     "name": "stdout",
     "output_type": "stream",
     "text": [
      "[[3147  591]\n",
      " [ 549 3213]]\n"
     ]
    }
   ],
   "source": [
    "print(confusion_matrix(label_test,result))"
   ]
  },
  {
   "cell_type": "markdown",
   "metadata": {},
   "source": [
    "# TfidfVectorizer + Random Forest"
   ]
  },
  {
   "cell_type": "code",
   "execution_count": 117,
   "metadata": {},
   "outputs": [],
   "source": [
    "tfidf_vectorizer = TfidfVectorizer(analyzer = 'word',   \\\n",
    "                             tokenizer = None,    \\\n",
    "                             preprocessor = None, \\\n",
    "                             stop_words = None,   \\\n",
    "                             max_features = 5000) "
   ]
  },
  {
   "cell_type": "code",
   "execution_count": 118,
   "metadata": {},
   "outputs": [],
   "source": [
    "tfidf_train_data_features = tfidf_vectorizer.fit_transform(msg_train)\n",
    "\n",
    "tfidf_train_data_features = tfidf_train_data_features.toarray()"
   ]
  },
  {
   "cell_type": "code",
   "execution_count": 119,
   "metadata": {},
   "outputs": [],
   "source": [
    "tfidf_forest = RandomForestClassifier(n_estimators = 100) \n",
    "\n",
    "tfidf_forest = tfidf_forest.fit(tfidf_train_data_features, label_train )"
   ]
  },
  {
   "cell_type": "code",
   "execution_count": 120,
   "metadata": {},
   "outputs": [],
   "source": [
    "tfidf_test_data_features = tfidf_vectorizer.transform(msg_test)\n",
    "tfidf_test_data_features = tfidf_test_data_features.toarray()"
   ]
  },
  {
   "cell_type": "code",
   "execution_count": 121,
   "metadata": {},
   "outputs": [],
   "source": [
    "tfidf_result = tfidf_forest.predict(tfidf_test_data_features)"
   ]
  },
  {
   "cell_type": "code",
   "execution_count": 122,
   "metadata": {},
   "outputs": [
    {
     "name": "stdout",
     "output_type": "stream",
     "text": [
      "              precision    recall  f1-score   support\n",
      "\n",
      "           0       0.84      0.85      0.84      3738\n",
      "           1       0.85      0.83      0.84      3762\n",
      "\n",
      "    accuracy                           0.84      7500\n",
      "   macro avg       0.84      0.84      0.84      7500\n",
      "weighted avg       0.84      0.84      0.84      7500\n",
      "\n"
     ]
    }
   ],
   "source": [
    "print(classification_report(label_test,tfidf_result))"
   ]
  },
  {
   "cell_type": "code",
   "execution_count": 123,
   "metadata": {},
   "outputs": [
    {
     "name": "stdout",
     "output_type": "stream",
     "text": [
      "[[3186  552]\n",
      " [ 623 3139]]\n"
     ]
    }
   ],
   "source": [
    "print(confusion_matrix(label_test,tfidf_result))"
   ]
  },
  {
   "cell_type": "code",
   "execution_count": null,
   "metadata": {},
   "outputs": [],
   "source": []
  },
  {
   "cell_type": "code",
   "execution_count": null,
   "metadata": {},
   "outputs": [],
   "source": []
  },
  {
   "cell_type": "code",
   "execution_count": null,
   "metadata": {},
   "outputs": [],
   "source": [
    "from sklearn.feature_extraction.text import TfidfTransformer\n",
    "from sklearn.naive_bayes import MultinomialNB"
   ]
  },
  {
   "cell_type": "markdown",
   "metadata": {},
   "source": [
    "# Count Vectorizer + Multinomial NB/Naive Bayes"
   ]
  },
  {
   "cell_type": "code",
   "execution_count": 73,
   "metadata": {},
   "outputs": [],
   "source": [
    "pipeline = Pipeline([\n",
    "    ('bow', CountVectorizer(analyzer=\"word\")),  # strings to token integer counts\n",
    "    ('tfidf', TfidfTransformer()),  # integer counts to weighted TF-IDF scores\n",
    "    ('classifier', MultinomialNB()),  # train on TF-IDF vectors w/ Naive Bayes classifier\n",
    "])"
   ]
  },
  {
   "cell_type": "code",
   "execution_count": 74,
   "metadata": {},
   "outputs": [
    {
     "data": {
      "text/plain": [
       "Pipeline(steps=[('bow', CountVectorizer()), ('tfidf', TfidfTransformer()),\n",
       "                ('classifier', MultinomialNB())])"
      ]
     },
     "execution_count": 74,
     "metadata": {},
     "output_type": "execute_result"
    }
   ],
   "source": [
    "pipeline.fit(msg_train,label_train)"
   ]
  },
  {
   "cell_type": "code",
   "execution_count": 75,
   "metadata": {},
   "outputs": [],
   "source": [
    "predictions_pipe = pipeline.predict(msg_test)"
   ]
  },
  {
   "cell_type": "code",
   "execution_count": 76,
   "metadata": {},
   "outputs": [
    {
     "name": "stdout",
     "output_type": "stream",
     "text": [
      "[[3309  429]\n",
      " [ 603 3159]]\n"
     ]
    }
   ],
   "source": [
    "print(confusion_matrix(label_test,predictions_pipe))"
   ]
  },
  {
   "cell_type": "code",
   "execution_count": 77,
   "metadata": {},
   "outputs": [
    {
     "name": "stdout",
     "output_type": "stream",
     "text": [
      "              precision    recall  f1-score   support\n",
      "\n",
      "           0       0.85      0.89      0.87      3738\n",
      "           1       0.88      0.84      0.86      3762\n",
      "\n",
      "    accuracy                           0.86      7500\n",
      "   macro avg       0.86      0.86      0.86      7500\n",
      "weighted avg       0.86      0.86      0.86      7500\n",
      "\n"
     ]
    }
   ],
   "source": [
    "print(classification_report(label_test,predictions_pipe))"
   ]
  },
  {
   "cell_type": "markdown",
   "metadata": {},
   "source": [
    "# TfidfVectorizer + MultinomialNB"
   ]
  },
  {
   "cell_type": "code",
   "execution_count": 103,
   "metadata": {},
   "outputs": [],
   "source": [
    "pipeline3 = Pipeline([\n",
    "    ('bow', TfidfVectorizer(analyzer=\"word\")),  # strings to token integer counts\n",
    "    ('classifier', MultinomialNB()),  # train on TF-IDF vectors w/ Naive Bayes classifier\n",
    "])"
   ]
  },
  {
   "cell_type": "code",
   "execution_count": 104,
   "metadata": {},
   "outputs": [
    {
     "data": {
      "text/plain": [
       "Pipeline(steps=[('bow', TfidfVectorizer()), ('classifier', MultinomialNB())])"
      ]
     },
     "execution_count": 104,
     "metadata": {},
     "output_type": "execute_result"
    }
   ],
   "source": [
    "pipeline3.fit(msg_train,label_train)"
   ]
  },
  {
   "cell_type": "code",
   "execution_count": 105,
   "metadata": {},
   "outputs": [],
   "source": [
    "predictions_NB = pipeline3.predict(msg_test)"
   ]
  },
  {
   "cell_type": "code",
   "execution_count": 106,
   "metadata": {},
   "outputs": [
    {
     "name": "stdout",
     "output_type": "stream",
     "text": [
      "              precision    recall  f1-score   support\n",
      "\n",
      "           0       0.85      0.89      0.87      3738\n",
      "           1       0.88      0.84      0.86      3762\n",
      "\n",
      "    accuracy                           0.86      7500\n",
      "   macro avg       0.86      0.86      0.86      7500\n",
      "weighted avg       0.86      0.86      0.86      7500\n",
      "\n"
     ]
    }
   ],
   "source": [
    "print(classification_report(label_test,predictions_NB))"
   ]
  },
  {
   "cell_type": "code",
   "execution_count": null,
   "metadata": {},
   "outputs": [],
   "source": []
  },
  {
   "cell_type": "code",
   "execution_count": null,
   "metadata": {},
   "outputs": [],
   "source": []
  },
  {
   "cell_type": "markdown",
   "metadata": {},
   "source": [
    "# TFIDFVectorizer + Logistic Regression"
   ]
  },
  {
   "cell_type": "code",
   "execution_count": 78,
   "metadata": {},
   "outputs": [],
   "source": [
    "from sklearn.feature_extraction.text import TfidfVectorizer\n",
    "from sklearn.linear_model import LogisticRegression"
   ]
  },
  {
   "cell_type": "code",
   "execution_count": 79,
   "metadata": {},
   "outputs": [],
   "source": [
    "pipeline1 = Pipeline([\n",
    "    ('bow', TfidfVectorizer(analyzer=\"word\")),\n",
    "    ('reg',LogisticRegression())\n",
    "])"
   ]
  },
  {
   "cell_type": "code",
   "execution_count": 80,
   "metadata": {},
   "outputs": [
    {
     "data": {
      "text/plain": [
       "Pipeline(steps=[('bow', TfidfVectorizer()), ('reg', LogisticRegression())])"
      ]
     },
     "execution_count": 80,
     "metadata": {},
     "output_type": "execute_result"
    }
   ],
   "source": [
    "pipeline1.fit(msg_train,label_train)"
   ]
  },
  {
   "cell_type": "code",
   "execution_count": 81,
   "metadata": {},
   "outputs": [],
   "source": [
    "y_preds = pipeline1.predict(msg_test)"
   ]
  },
  {
   "cell_type": "code",
   "execution_count": 82,
   "metadata": {},
   "outputs": [
    {
     "name": "stdout",
     "output_type": "stream",
     "text": [
      "0.8890666666666667\n"
     ]
    }
   ],
   "source": [
    "print(accuracy_score(label_test,y_preds))"
   ]
  },
  {
   "cell_type": "code",
   "execution_count": 83,
   "metadata": {},
   "outputs": [
    {
     "name": "stdout",
     "output_type": "stream",
     "text": [
      "              precision    recall  f1-score   support\n",
      "\n",
      "           0       0.90      0.88      0.89      3738\n",
      "           1       0.88      0.90      0.89      3762\n",
      "\n",
      "    accuracy                           0.89      7500\n",
      "   macro avg       0.89      0.89      0.89      7500\n",
      "weighted avg       0.89      0.89      0.89      7500\n",
      "\n"
     ]
    }
   ],
   "source": [
    "print(classification_report(label_test,y_preds))"
   ]
  },
  {
   "cell_type": "markdown",
   "metadata": {},
   "source": [
    "# TfidfVectorizer + SVC(Winner)"
   ]
  },
  {
   "cell_type": "code",
   "execution_count": 112,
   "metadata": {},
   "outputs": [],
   "source": [
    "pipeline2 = Pipeline([\n",
    "    ('bow', TfidfVectorizer(analyzer=\"word\")),\n",
    "    ('reg', SVC())\n",
    "])"
   ]
  },
  {
   "cell_type": "code",
   "execution_count": 113,
   "metadata": {},
   "outputs": [
    {
     "data": {
      "text/plain": [
       "Pipeline(steps=[('bow', TfidfVectorizer()), ('reg', SVC())])"
      ]
     },
     "execution_count": 113,
     "metadata": {},
     "output_type": "execute_result"
    }
   ],
   "source": [
    "pipeline2.fit(msg_train,label_train)"
   ]
  },
  {
   "cell_type": "code",
   "execution_count": 114,
   "metadata": {},
   "outputs": [],
   "source": [
    "y_preds2 = pipeline2.predict(msg_test)"
   ]
  },
  {
   "cell_type": "code",
   "execution_count": 115,
   "metadata": {},
   "outputs": [
    {
     "name": "stdout",
     "output_type": "stream",
     "text": [
      "0.896\n"
     ]
    }
   ],
   "source": [
    "print(accuracy_score(label_test,y_preds2))"
   ]
  },
  {
   "cell_type": "code",
   "execution_count": 116,
   "metadata": {},
   "outputs": [
    {
     "name": "stdout",
     "output_type": "stream",
     "text": [
      "              precision    recall  f1-score   support\n",
      "\n",
      "           0       0.90      0.89      0.89      3738\n",
      "           1       0.89      0.90      0.90      3762\n",
      "\n",
      "    accuracy                           0.90      7500\n",
      "   macro avg       0.90      0.90      0.90      7500\n",
      "weighted avg       0.90      0.90      0.90      7500\n",
      "\n"
     ]
    }
   ],
   "source": [
    "print(classification_report(label_test,y_preds2))"
   ]
  },
  {
   "cell_type": "code",
   "execution_count": null,
   "metadata": {},
   "outputs": [],
   "source": []
  },
  {
   "cell_type": "code",
   "execution_count": null,
   "metadata": {},
   "outputs": [],
   "source": []
  }
 ],
 "metadata": {
  "anaconda-cloud": {},
  "kernelspec": {
   "display_name": "Python 3",
   "language": "python",
   "name": "python3"
  },
  "language_info": {
   "codemirror_mode": {
    "name": "ipython",
    "version": 3
   },
   "file_extension": ".py",
   "mimetype": "text/x-python",
   "name": "python",
   "nbconvert_exporter": "python",
   "pygments_lexer": "ipython3",
   "version": "3.8.3"
  }
 },
 "nbformat": 4,
 "nbformat_minor": 1
}
